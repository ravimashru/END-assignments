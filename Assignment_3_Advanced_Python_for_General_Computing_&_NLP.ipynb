{
  "nbformat": 4,
  "nbformat_minor": 0,
  "metadata": {
    "colab": {
      "name": "Assignment 3 - Advanced Python for General Computing & NLP.ipynb",
      "provenance": [],
      "collapsed_sections": [],
      "toc_visible": true,
      "authorship_tag": "ABX9TyNdPEp+A60NnLE+r+jwK/II",
      "include_colab_link": true
    },
    "kernelspec": {
      "name": "python3",
      "display_name": "Python 3"
    }
  },
  "cells": [
    {
      "cell_type": "markdown",
      "metadata": {
        "id": "view-in-github",
        "colab_type": "text"
      },
      "source": [
        "<a href=\"https://colab.research.google.com/github/ravimashru/END-assignments/blob/main/Assignment_3_Advanced_Python_for_General_Computing_%26_NLP.ipynb\" target=\"_parent\"><img src=\"https://colab.research.google.com/assets/colab-badge.svg\" alt=\"Open In Colab\"/></a>"
      ]
    },
    {
      "cell_type": "code",
      "metadata": {
        "id": "RHKE3EFa6gRN"
      },
      "source": [
        "import random\n",
        "import math\n",
        "import matplotlib.pyplot as plt\n",
        "from functools import reduce\n",
        "import string"
      ],
      "execution_count": 51,
      "outputs": []
    },
    {
      "cell_type": "markdown",
      "metadata": {
        "id": "zEZ2s8cvr4kk"
      },
      "source": [
        "# Question 1\n",
        "\n",
        "Write a function using only list filter lambda that can tell whether a number is a Fibonacci number or not.\n",
        "\n",
        "You can use a pre-calculated list/dict to store Fibonacci numbers till 10,000."
      ]
    },
    {
      "cell_type": "code",
      "metadata": {
        "id": "vbGGs1Qbrvoc"
      },
      "source": [
        "# Precalculate Fibonacci numbers until 10,000\n",
        "fib_numbers = [0, 1]\n",
        "while (sum(fib_numbers[-2:]) < 10000):\n",
        "  fib_numbers.append(sum(fib_numbers[-2:]))\n",
        "\n",
        "# list filter lambda that takes a number as input\n",
        "# Returns: True if number is a Fibonacci number, False otherwise\n",
        "isFibonacci = lambda x: len(list(filter(lambda n: n == x, fib_numbers))) > 0"
      ],
      "execution_count": null,
      "outputs": []
    },
    {
      "cell_type": "code",
      "metadata": {
        "id": "9QzSVuLktM_2",
        "outputId": "e4134be8-2af6-49f4-e5bb-44bf85f38ab6",
        "colab": {
          "base_uri": "https://localhost:8080/"
        }
      },
      "source": [
        "print(isFibonacci(13))"
      ],
      "execution_count": null,
      "outputs": [
        {
          "output_type": "stream",
          "text": [
            "True\n"
          ],
          "name": "stdout"
        }
      ]
    },
    {
      "cell_type": "code",
      "metadata": {
        "id": "tjWOvdJNtRz5",
        "outputId": "0a60d523-7871-443e-e1bd-096dda500dfa",
        "colab": {
          "base_uri": "https://localhost:8080/"
        }
      },
      "source": [
        "print(isFibonacci(1572))"
      ],
      "execution_count": null,
      "outputs": [
        {
          "output_type": "stream",
          "text": [
            "False\n"
          ],
          "name": "stdout"
        }
      ]
    },
    {
      "cell_type": "markdown",
      "metadata": {
        "id": "tOjku0HFuNCD"
      },
      "source": [
        "# Question 2\n",
        "\n",
        "Using list comprehension (and zip, lambda, etc if required) write five different expressions that:\n",
        "\n",
        "**1. Add 2 iterables a and b such that a is even and b is odd**\n"
      ]
    },
    {
      "cell_type": "code",
      "metadata": {
        "id": "ME99mMmCzujq",
        "outputId": "527925a3-f6de-4c5c-c08c-39d6afd191da",
        "colab": {
          "base_uri": "https://localhost:8080/"
        }
      },
      "source": [
        "ITERABLE_SIZE=10\n",
        "\n",
        "a = [random.randint(0, 100) for _ in range(ITERABLE_SIZE)]\n",
        "b = [random.randint(0, 100) for _ in range(ITERABLE_SIZE)]\n",
        "\n",
        "# Pick even numbers from a\n",
        "even_a = filter(lambda x: x % 2 == 0, a)\n",
        "\n",
        "# Pick odd numbers from b\n",
        "odd_b = filter(lambda x: x % 2 != 0, b)\n",
        "\n",
        "# Add corresponding elements\n",
        "iterable_sum = [e1 + e2 for (e1, e2) in zip(even_a, odd_b)]\n",
        "\n",
        "print('a: ', a)\n",
        "print('b: ', b)\n",
        "print('a+b: ', iterable_sum)"
      ],
      "execution_count": null,
      "outputs": [
        {
          "output_type": "stream",
          "text": [
            "a:  [7, 7, 4, 9, 84, 2, 48, 50, 26, 49]\n",
            "b:  [37, 64, 59, 96, 4, 33, 70, 54, 57, 2]\n",
            "a+b:  [41, 143, 35, 105]\n"
          ],
          "name": "stdout"
        }
      ]
    },
    {
      "cell_type": "markdown",
      "metadata": {
        "id": "LKuG8hcXzswt"
      },
      "source": [
        "**2. Strips every vowel from a string provided (tsai>>t s)**"
      ]
    },
    {
      "cell_type": "code",
      "metadata": {
        "id": "iCbp0vZD1lH0",
        "outputId": "0884642d-c760-4b37-b8db-9f84f78a2f8a",
        "colab": {
          "base_uri": "https://localhost:8080/"
        }
      },
      "source": [
        "test_string = 'This is the School of AI!'\n",
        "\n",
        "# Filter out vowels\n",
        "chars_with_no_vowels = [char for char in test_string if char not in 'aeiouAEIOU']\n",
        "\n",
        "# Construct string\n",
        "stripped_string = ''.join(chars_with_no_vowels)\n",
        "\n",
        "print(stripped_string)"
      ],
      "execution_count": 46,
      "outputs": [
        {
          "output_type": "stream",
          "text": [
            "Ths s th Schl f !\n"
          ],
          "name": "stdout"
        }
      ]
    },
    {
      "cell_type": "markdown",
      "metadata": {
        "id": "rEvmjiGZ1lmP"
      },
      "source": [
        "**3. Acts like a ReLU function for a 1D array**"
      ]
    },
    {
      "cell_type": "code",
      "metadata": {
        "id": "cckRiAvK1pb2",
        "outputId": "ce2e774c-d4bc-4df9-d117-fa07fc19addf",
        "colab": {
          "base_uri": "https://localhost:8080/",
          "height": 319
        }
      },
      "source": [
        "relu = lambda x: x if x > 0 else 0\n",
        "\n",
        "# Generate 10 random numbers between -10 and 10\n",
        "inputs = [random.uniform(-10, 10) for _ in range(10)]\n",
        "\n",
        "# Pass numbers through ReLU function\n",
        "activations = [relu(x) for x in inputs]\n",
        "\n",
        "print('Inputs: ', inputs)\n",
        "print('ReLU: ', activations)\n",
        "\n",
        "# Visualize inputs and ReLU\n",
        "plt.scatter(inputs, activations)\n",
        "plt.show()"
      ],
      "execution_count": 47,
      "outputs": [
        {
          "output_type": "stream",
          "text": [
            "Inputs:  [-3.7690018241232615, 2.551950077569918, -4.130414936825897, -6.222571073888126, -6.918638542018217, -5.17139443020697, -3.7936914139055267, 8.508664238572411, -1.0491502534521775, 6.184793160685466]\n",
            "ReLU:  [0, 2.551950077569918, 0, 0, 0, 0, 0, 8.508664238572411, 0, 6.184793160685466]\n"
          ],
          "name": "stdout"
        },
        {
          "output_type": "display_data",
          "data": {
            "image/png": "[encoded data removed]",
            "text/plain": [
              "<Figure size 432x288 with 1 Axes>"
            ]
          },
          "metadata": {
            "tags": [],
            "needs_background": "light"
          }
        }
      ]
    },
    {
      "cell_type": "markdown",
      "metadata": {
        "id": "RBECWALK1puM"
      },
      "source": [
        "**4. Acts like a sigmoid function for a 1D array**"
      ]
    },
    {
      "cell_type": "code",
      "metadata": {
        "id": "dU9FNIZ21qCp",
        "outputId": "f0f0e23d-e046-4be5-ee4e-a263342cc837",
        "colab": {
          "base_uri": "https://localhost:8080/",
          "height": 319
        }
      },
      "source": [
        "sigmoid = lambda x: math.exp(x) / (1 + math.exp(x))\n",
        "\n",
        "# Generate 10 random numbers between -10 and 10\n",
        "inputs = [random.uniform(-10, 10) for _ in range(10)]\n",
        "\n",
        "# Pass numbers through sigmoid function\n",
        "activations = [sigmoid(x) for x in inputs]\n",
        "\n",
        "print('Inputs: ', inputs)\n",
        "print('Sigmoid: ', activations)\n",
        "\n",
        "# Visualize inputs and Sigmoid\n",
        "plt.scatter(inputs, activations)\n",
        "plt.show()"
      ],
      "execution_count": 48,
      "outputs": [
        {
          "output_type": "stream",
          "text": [
            "Inputs:  [9.394458236444123, 2.7061543808105917, 1.4527079818914004, -7.936527542830792, -6.454720534903, 1.8521779749345306, -3.6518211462826304, 0.1604989888177233, 1.0790633683864215, -5.662498257313264]\n",
            "Sigmoid:  [0.9999168231435716, 0.9373888246018344, 0.8104148452077686, 0.0003573178184352031, 0.0015706081502921264, 0.8643826194514643, 0.02528777623068122, 0.5400388343007165, 0.7463166935816691, 0.0034618018310395627]\n"
          ],
          "name": "stdout"
        },
        {
          "output_type": "display_data",
          "data": {
            "image/png": "[encoded data removed]",
            "text/plain": [
              "<Figure size 432x288 with 1 Axes>"
            ]
          },
          "metadata": {
            "tags": [],
            "needs_background": "light"
          }
        }
      ]
    },
    {
      "cell_type": "markdown",
      "metadata": {
        "id": "1p5Vv0Rs1qXk"
      },
      "source": [
        "**5. Takes a small character string and shifts all characters by 5 (handle boundary conditions) tsai>>yxfn**"
      ]
    },
    {
      "cell_type": "code",
      "metadata": {
        "id": "eRj_WBSy1x0g",
        "outputId": "bb4d6b63-86f9-49cb-860f-aa9976044e04",
        "colab": {
          "base_uri": "https://localhost:8080/"
        }
      },
      "source": [
        "# Function to \"shift\" a lowercase character by 5\n",
        "shift = lambda x: chr(((ord(x) - 97 + 5) % 26) + 97)\n",
        "\n",
        "normal_string = 'i want to shift this string'\n",
        "\n",
        "shifted_chars = [shift(x) if x != ' ' else ' ' for x in normal_string]\n",
        "shifted_string = ''.join(shifted_chars)\n",
        "print(shifted_string)"
      ],
      "execution_count": null,
      "outputs": [
        {
          "output_type": "stream",
          "text": [
            "n bfsy yt xmnky ymnx xywnsl\n"
          ],
          "name": "stdout"
        }
      ]
    },
    {
      "cell_type": "markdown",
      "metadata": {
        "id": "VQsvpBXIL-J-"
      },
      "source": [
        "# Question 3\n",
        "\n",
        "A list comprehension expression that takes a ~200 word paragraph (write your own paragraph to check), and checks whether it has any of the swear words mentioned in https://github.com/RobertJGabriel/Google-profanity-words/blob/master/list.txt"
      ]
    },
    {
      "cell_type": "code",
      "metadata": {
        "id": "WLWZIZp03mwB",
        "outputId": "c6b2b58e-ee9a-4a17-e66c-7082211da706",
        "colab": {
          "base_uri": "https://localhost:8080/"
        }
      },
      "source": [
        "# Download list of swear words\n",
        "!wget https://raw.githubusercontent.com/RobertJGabriel/Google-profanity-words/master/list.txt"
      ],
      "execution_count": null,
      "outputs": [
        {
          "output_type": "stream",
          "text": [
            "--2020-11-05 10:51:31--  https://raw.githubusercontent.com/RobertJGabriel/Google-profanity-words/master/list.txt\n",
            "Resolving raw.githubusercontent.com (raw.githubusercontent.com)... 151.101.0.133, 151.101.64.133, 151.101.128.133, ...\n",
            "Connecting to raw.githubusercontent.com (raw.githubusercontent.com)|151.101.0.133|:443... connected.\n",
            "HTTP request sent, awaiting response... 200 OK\n",
            "Length: 3622 (3.5K) [text/plain]\n",
            "Saving to: ‘list.txt’\n",
            "\n",
            "list.txt            100%[===================>]   3.54K  --.-KB/s    in 0s      \n",
            "\n",
            "2020-11-05 10:51:31 (50.9 MB/s) - ‘list.txt’ saved [3622/3622]\n",
            "\n"
          ],
          "name": "stdout"
        }
      ]
    },
    {
      "cell_type": "code",
      "metadata": {
        "id": "3utwM1wqWyzU",
        "outputId": "b7efcbe1-1b30-45a5-b800-fea3dd5af7df",
        "colab": {
          "base_uri": "https://localhost:8080/"
        }
      },
      "source": [
        "# Create list of words in the file\n",
        "swear_words = []\n",
        "with open('list.txt') as f:\n",
        "  swear_words = f.read().splitlines()\n",
        "\n",
        "print(swear_words)"
      ],
      "execution_count": null,
      "outputs": [
        {
          "output_type": "stream",
          "text": [
            "['4r5e', '5h1t', '5hit', 'a55', 'anal', 'anus', 'ar5e', 'arrse', 'arse', 'ass', 'ass-fucker', 'asses', 'assfucker', 'assfukka', 'asshole', 'assholes', 'asswhole', 'a_s_s', 'b!tch', 'b00bs', 'b17ch', 'b1tch', 'ballbag', 'balls', 'ballsack', 'bastard', 'beastial', 'beastiality', 'bellend', 'bestial', 'bestiality', 'bi+ch', 'biatch', 'bitch', 'bitcher', 'bitchers', 'bitches', 'bitchin', 'bitching', 'bloody', 'blow job', 'blowjob', 'blowjobs', 'boiolas', 'bollock', 'bollok', 'boner', 'boob', 'boobs', 'booobs', 'boooobs', 'booooobs', 'booooooobs', 'breasts', 'buceta', 'bugger', 'bum', 'bunny fucker', 'butt', 'butthole', 'buttmunch', 'buttplug', 'c0ck', 'c0cksucker', 'carpet muncher', 'cawk', 'chink', 'cipa', 'cl1t', 'clit', 'clitoris', 'clits', 'cnut', 'cock', 'cock-sucker', 'cockface', 'cockhead', 'cockmunch', 'cockmuncher', 'cocks', 'cocksuck ', 'cocksucked ', 'cocksucker', 'cocksucking', 'cocksucks ', 'cocksuka', 'cocksukka', 'cok', 'cokmuncher', 'coksucka', 'coon', 'cox', 'crap', 'cum', 'cummer', 'cumming', 'cums', 'cumshot', 'cunilingus', 'cunillingus', 'cunnilingus', 'cunt', 'cuntlick ', 'cuntlicker ', 'cuntlicking ', 'cunts', 'cyalis', 'cyberfuc', 'cyberfuck ', 'cyberfucked ', 'cyberfucker', 'cyberfuckers', 'cyberfucking ', 'd1ck', 'damn', 'dick', 'dickhead', 'dildo', 'dildos', 'dink', 'dinks', 'dirsa', 'dlck', 'dog-fucker', 'doggin', 'dogging', 'donkeyribber', 'doosh', 'duche', 'dyke', 'ejaculate', 'ejaculated', 'ejaculates ', 'ejaculating ', 'ejaculatings', 'ejaculation', 'ejakulate', 'f u c k', 'f u c k e r', 'f4nny', 'fag', 'fagging', 'faggitt', 'faggot', 'faggs', 'fagot', 'fagots', 'fags', 'fanny', 'fannyflaps', 'fannyfucker', 'fanyy', 'fatass', 'fcuk', 'fcuker', 'fcuking', 'feck', 'fecker', 'felching', 'fellate', 'fellatio', 'fingerfuck ', 'fingerfucked ', 'fingerfucker ', 'fingerfuckers', 'fingerfucking ', 'fingerfucks ', 'fistfuck', 'fistfucked ', 'fistfucker ', 'fistfuckers ', 'fistfucking ', 'fistfuckings ', 'fistfucks ', 'flange', 'fook', 'fooker', 'fuck', 'fucka', 'fucked', 'fucker', 'fuckers', 'fuckhead', 'fuckheads', 'fuckin', 'fucking', 'fuckings', 'fuckingshitmotherfucker', 'fuckme ', 'fucks', 'fuckwhit', 'fuckwit', 'fudge packer', 'fudgepacker', 'fuk', 'fuker', 'fukker', 'fukkin', 'fuks', 'fukwhit', 'fukwit', 'fux', 'fux0r', 'f_u_c_k', 'gangbang', 'gangbanged ', 'gangbangs ', 'gaylord', 'gaysex', 'goatse', 'God', 'god-dam', 'god-damned', 'goddamn', 'goddamned', 'hardcoresex ', 'hell', 'heshe', 'hoar', 'hoare', 'hoer', 'homo', 'hore', 'horniest', 'horny', 'hotsex', 'jack-off ', 'jackoff', 'jap', 'jerk-off ', 'jism', 'jiz ', 'jizm ', 'jizz', 'kawk', 'knob', 'knobead', 'knobed', 'knobend', 'knobhead', 'knobjocky', 'knobjokey', 'kock', 'kondum', 'kondums', 'kum', 'kummer', 'kumming', 'kums', 'kunilingus', 'l3i+ch', 'l3itch', 'labia', 'lmfao', 'lust', 'lusting', 'm0f0', 'm0fo', 'm45terbate', 'ma5terb8', 'ma5terbate', 'masochist', 'master-bate', 'masterb8', 'masterbat*', 'masterbat3', 'masterbate', 'masterbation', 'masterbations', 'masturbate', 'mo-fo', 'mof0', 'mofo', 'mothafuck', 'mothafucka', 'mothafuckas', 'mothafuckaz', 'mothafucked ', 'mothafucker', 'mothafuckers', 'mothafuckin', 'mothafucking ', 'mothafuckings', 'mothafucks', 'mother fucker', 'motherfuck', 'motherfucked', 'motherfucker', 'motherfuckers', 'motherfuckin', 'motherfucking', 'motherfuckings', 'motherfuckka', 'motherfucks', 'muff', 'mutha', 'muthafecker', 'muthafuckker', 'muther', 'mutherfucker', 'n1gga', 'n1gger', 'nazi', 'nigg3r', 'nigg4h', 'nigga', 'niggah', 'niggas', 'niggaz', 'nigger', 'niggers ', 'nob', 'nob jokey', 'nobhead', 'nobjocky', 'nobjokey', 'numbnuts', 'nutsack', 'orgasim ', 'orgasims ', 'orgasm', 'orgasms ', 'p0rn', 'pawn', 'pecker', 'penis', 'penisfucker', 'phonesex', 'phuck', 'phuk', 'phuked', 'phuking', 'phukked', 'phukking', 'phuks', 'phuq', 'pigfucker', 'pimpis', 'piss', 'pissed', 'pisser', 'pissers', 'pisses ', 'pissflaps', 'pissin ', 'pissing', 'pissoff ', 'poop', 'porn', 'porno', 'pornography', 'pornos', 'prick', 'pricks ', 'pron', 'pube', 'pusse', 'pussi', 'pussies', 'pussy', 'pussys ', 'rectum', 'retard', 'rimjaw', 'rimming', 's hit', 's.o.b.', 'sadist', 'schlong', 'screwing', 'scroat', 'scrote', 'scrotum', 'semen', 'sex', 'sh!+', 'sh!t', 'sh1t', 'shag', 'shagger', 'shaggin', 'shagging', 'shemale', 'shi+', 'shit', 'shitdick', 'shite', 'shited', 'shitey', 'shitfuck', 'shitfull', 'shithead', 'shiting', 'shitings', 'shits', 'shitted', 'shitter', 'shitters ', 'shitting', 'shittings', 'shitty ', 'skank', 'slut', 'sluts', 'smegma', 'smut', 'snatch', 'son-of-a-bitch', 'spac', 'spunk', 's_h_i_t', 't1tt1e5', 't1tties', 'teets', 'teez', 'testical', 'testicle', 'tit', 'titfuck', 'tits', 'titt', 'tittie5', 'tittiefucker', 'titties', 'tittyfuck', 'tittywank', 'titwank', 'tosser', 'turd', 'tw4t', 'twat', 'twathead', 'twatty', 'twunt', 'twunter', 'v14gra', 'v1gra', 'vagina', 'viagra', 'vulva', 'w00se', 'wang', 'wank', 'wanker', 'wanky', 'whoar', 'whore', 'willies', 'willy', 'xrated', 'xxx']\n"
          ],
          "name": "stdout"
        }
      ]
    },
    {
      "cell_type": "code",
      "metadata": {
        "id": "shEtwLXqXZls",
        "outputId": "2a310628-5bfe-4432-c960-3439b703af2c",
        "colab": {
          "base_uri": "https://localhost:8080/"
        }
      },
      "source": [
        "test_paragraph='''This is a space log by Captian 5h1t a55 of the spaceship sh!+ 1.\n",
        "Whoever disagrees with my assessment of the situation is a damn fool to say the least!\n",
        "Do not expect me to work with such xxx folk! Daily Log, Seven of Nine, Stardate 51781.2.\n",
        "Today, Ensign Kim and I will conduct a comprehensive diagnostic of the aft sensor\n",
        "array. I'm allocating three hours twenty minutes for the task, and an\n",
        "additional seventeen minutes for Ensign Kim's usual conversational\n",
        "digressions. (beat) I'm scheduled to take a nutritional supplement at\n",
        "fifteen hundred hours, engage in one hour of cardiovascular activity,\n",
        "then I intend to review a text the Doctor recommended, entitled \"A\n",
        "Christmas Carol.\" He believes it will have educational value. (beat) End\n",
        "log.'''\n",
        "\n",
        "swear_words_found = [x for x in test_paragraph.split(' ') if x in swear_words]\n",
        "\n",
        "print(f'{len(swear_words_found)} swear words found:')\n",
        "print(swear_words_found)"
      ],
      "execution_count": null,
      "outputs": [
        {
          "output_type": "stream",
          "text": [
            "5 swear words found:\n",
            "['5h1t', 'a55', 'sh!+', 'damn', 'xxx']\n"
          ],
          "name": "stdout"
        }
      ]
    },
    {
      "cell_type": "markdown",
      "metadata": {
        "id": "3s-j3Cq-aruI"
      },
      "source": [
        "# Question 4\n",
        "\n",
        "Using reduce functions:  \n",
        "**1. Add only even numbers in a list**"
      ]
    },
    {
      "cell_type": "code",
      "metadata": {
        "id": "YL_HGAdmarZp",
        "outputId": "7bbc8a71-3627-4da3-a009-0e8615dd38d9",
        "colab": {
          "base_uri": "https://localhost:8080/"
        }
      },
      "source": [
        "# Generate 10 random numbers between 1 and 100\n",
        "numbers = [random.randint(1, 100) for _ in range(10)]\n",
        "\n",
        "# Add current value to accumulated value only if it is even\n",
        "sum_even_numbers = reduce(\n",
        "    lambda accumulated, current:\n",
        "    (accumulated + current) if current % 2 == 0\n",
        "    else accumulated,\n",
        "    numbers, 0\n",
        ")\n",
        "\n",
        "print('numbers: ', numbers)\n",
        "print('Sum of even numbers in list: ', sum_even_numbers)"
      ],
      "execution_count": null,
      "outputs": [
        {
          "output_type": "stream",
          "text": [
            "numbers:  [68, 66, 64, 42, 92, 30, 71, 14, 53, 69]\n",
            "Sum of even numbers in list:  376\n"
          ],
          "name": "stdout"
        }
      ]
    },
    {
      "cell_type": "markdown",
      "metadata": {
        "id": "1HETk85dvSNo"
      },
      "source": [
        "**2. Find the biggest character in a string (printable ascii characters)**"
      ]
    },
    {
      "cell_type": "code",
      "metadata": {
        "id": "7pQ0tMLOvTGt",
        "outputId": "7989f0b4-617d-4be4-b192-1631d907ba1f",
        "colab": {
          "base_uri": "https://localhost:8080/"
        }
      },
      "source": [
        "test_string = 'This is a string in which I want to find the BIGGEST printable ASCII character'\n",
        "\n",
        "biggest_character = reduce(lambda acc, curr: curr if curr > acc else acc, test_string)\n",
        "\n",
        "print('Biggest character in string: ', biggest_character)"
      ],
      "execution_count": 40,
      "outputs": [
        {
          "output_type": "stream",
          "text": [
            "Biggest character in string:  w\n"
          ],
          "name": "stdout"
        }
      ]
    },
    {
      "cell_type": "markdown",
      "metadata": {
        "id": "Z8dxlI58vUWU"
      },
      "source": [
        "**3. Adds every 3rd number in a list**"
      ]
    },
    {
      "cell_type": "code",
      "metadata": {
        "id": "TVCEQu9PvUpH",
        "outputId": "e76e200a-cbee-44fb-e9b6-36d3df57d2ea",
        "colab": {
          "base_uri": "https://localhost:8080/"
        }
      },
      "source": [
        "my_list = [random.randint(0, 100) for _ in range(10)]\n",
        "\n",
        "# Add every third number in the list starting from index 0\n",
        "# i.e. numbers at index 0, 3, 6, 9, ...\n",
        "def add_every_third_number(sum, index_number):\n",
        "  index, number = index_number\n",
        "  return sum + number if index % 3 == 0 else sum\n",
        "\n",
        "every_third_sum = reduce(add_every_third_number, enumerate(my_list), 0)\n",
        "\n",
        "print('List: ', my_list)\n",
        "print('Sum of every third number in list: ', every_third_sum)"
      ],
      "execution_count": 45,
      "outputs": [
        {
          "output_type": "stream",
          "text": [
            "List:  [47, 47, 64, 60, 99, 95, 75, 73, 58, 78]\n",
            "Sum of every third number in list:  260\n"
          ],
          "name": "stdout"
        }
      ]
    },
    {
      "cell_type": "markdown",
      "metadata": {
        "id": "mphdNvbnvXMM"
      },
      "source": [
        "# Question 5\n",
        "\n",
        "Using randint, random.choice and list comprehensions, write an expression that generates 15 random KADDAADDDD number plates, where KA is fixed, D stands for a digit, and A stands for Capital alphabets. 10<<DD<<99 & 1000<<DDDD<<9999"
      ]
    },
    {
      "cell_type": "code",
      "metadata": {
        "id": "u9d5-DMwvZ19",
        "outputId": "0168b44f-b1e3-4f4b-d5e3-db34a3872ce7",
        "colab": {
          "base_uri": "https://localhost:8080/"
        }
      },
      "source": [
        "def generate_number_plate():\n",
        "  \n",
        "  prefix_number = random.randint(10, 99)\n",
        "  postfix_number = random.randint(1000, 9999)\n",
        "\n",
        "  alpha1 = random.choice(string.ascii_uppercase)\n",
        "  alpha2 = random.choice(string.ascii_uppercase)\n",
        "\n",
        "  return f'KA{prefix_number}{alpha1}{alpha2}{postfix_number}'\n",
        "\n",
        "number_plates = [generate_number_plate() for _ in range(15)]\n",
        "print(number_plates)"
      ],
      "execution_count": 52,
      "outputs": [
        {
          "output_type": "stream",
          "text": [
            "['KA99WR9122', 'KA24WB4681', 'KA84PR9653', 'KA84SK3383', 'KA79AO1082', 'KA98XY1329', 'KA86UF2999', 'KA63JW1062', 'KA92YJ5125', 'KA78NO1826', 'KA39IP2347', 'KA75YE8599', 'KA53XM2297', 'KA56UB4716', 'KA39JQ6710']\n"
          ],
          "name": "stdout"
        }
      ]
    },
    {
      "cell_type": "markdown",
      "metadata": {
        "id": "xk6gUm0wwSRL"
      },
      "source": [
        "# Question 6\n",
        "\n",
        "Write the above again from scratch where KA can be changed to DL, and 1000/9999 ranges can be provided. "
      ]
    },
    {
      "cell_type": "code",
      "metadata": {
        "id": "Nw4L-ak6wXfh",
        "outputId": "dc7705a4-00e3-48ea-8437-4c8d2bd333ee",
        "colab": {
          "base_uri": "https://localhost:8080/"
        }
      },
      "source": [
        "def generate_number_plate(postfix_lower=1000, postfix_upper=9999):\n",
        "\n",
        "  alpha_prefix = random.choice(['KA', 'DL'])\n",
        "  \n",
        "  prefix_number = random.randint(10, 99)\n",
        "  postfix_number = random.randint(postfix_lower, postfix_upper)\n",
        "\n",
        "  alpha1 = random.choice(string.ascii_uppercase)\n",
        "  alpha2 = random.choice(string.ascii_uppercase)\n",
        "\n",
        "  return f'{alpha_prefix}{prefix_number}{alpha1}{alpha2}{postfix_number}'\n",
        "\n",
        "number_plates = [generate_number_plate(5555, 7777) for _ in range(15)]\n",
        "print(number_plates)"
      ],
      "execution_count": 54,
      "outputs": [
        {
          "output_type": "stream",
          "text": [
            "['DL65GI6800', 'DL33UC6082', 'DL24EK6049', 'DL68FR7399', 'KA21RB6962', 'KA83KM6710', 'KA93BV6044', 'KA85PY6576', 'KA12PY5853', 'DL29YL5810', 'DL50FG6463', 'DL62YB7748', 'KA62YC6240', 'DL34OE7664', 'DL24HF5755']\n"
          ],
          "name": "stdout"
        }
      ]
    }
  ]
}